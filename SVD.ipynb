{
 "cells": [
  {
   "cell_type": "code",
   "execution_count": 13,
   "id": "3fa8f601-bc1a-4dc4-b115-2b000ea0e65c",
   "metadata": {},
   "outputs": [],
   "source": [
    "import numpy\n",
    "import pandas\n",
    "import matplotlib.pyplot as plt\n",
    "import pandas as pd\n",
    "from sklearn.decomposition import TruncatedSVD\n",
    "from sklearn.preprocessing import StandardScaler"
   ]
  },
  {
   "cell_type": "code",
   "execution_count": 14,
   "id": "1e490f62-6319-42f8-ae74-e5f55932811b",
   "metadata": {},
   "outputs": [],
   "source": [
    "df=pandas.read_csv(\"Customer_Engagement_Predication.csv\", low_memory=False)"
   ]
  },
  {
   "cell_type": "code",
   "execution_count": 15,
   "id": "05f42839-9ad5-47a9-ad33-0ee38ebd2071",
   "metadata": {},
   "outputs": [
    {
     "data": {
      "text/plain": [
       "unsubs_from        0\n",
       "unsubs_date        0\n",
       "revenue            0\n",
       "subs_date          0\n",
       "source             0\n",
       "country            0\n",
       "operator           0\n",
       "profile_status     0\n",
       "status             0\n",
       "service_price      0\n",
       "publisher          0\n",
       "adnet              0\n",
       "service            0\n",
       "success_billing    0\n",
       "dtype: int64"
      ]
     },
     "execution_count": 15,
     "metadata": {},
     "output_type": "execute_result"
    }
   ],
   "source": [
    "df.isnull().sum()"
   ]
  },
  {
   "cell_type": "code",
   "execution_count": 16,
   "id": "5b3e02c2-6a4c-4be9-b208-0afaf0e6bd5f",
   "metadata": {},
   "outputs": [],
   "source": [
    "#selecting numerical columns from the df\n",
    "numerical_columns=df.select_dtypes(include=['float64', 'int64']).columns\n",
    "df_numerical = df[numerical_columns]"
   ]
  },
  {
   "cell_type": "code",
   "execution_count": 17,
   "id": "1704a429-fa0f-4f63-8ece-c6df51cb84ff",
   "metadata": {},
   "outputs": [],
   "source": [
    "#standardize the numerical data\n",
    "scaler=StandardScaler()\n",
    "df_numerical_standarized=scaler.fit_transform(df_numerical)"
   ]
  },
  {
   "cell_type": "code",
   "execution_count": 23,
   "id": "b5b57d2e-e84c-41fb-8b07-38424e80a5e3",
   "metadata": {},
   "outputs": [
    {
     "name": "stdout",
     "output_type": "stream",
     "text": [
      "DataFrame after SVD: \n"
     ]
    },
    {
     "data": {
      "text/html": [
       "<div>\n",
       "<style scoped>\n",
       "    .dataframe tbody tr th:only-of-type {\n",
       "        vertical-align: middle;\n",
       "    }\n",
       "\n",
       "    .dataframe tbody tr th {\n",
       "        vertical-align: top;\n",
       "    }\n",
       "\n",
       "    .dataframe thead th {\n",
       "        text-align: right;\n",
       "    }\n",
       "</style>\n",
       "<table border=\"1\" class=\"dataframe\">\n",
       "  <thead>\n",
       "    <tr style=\"text-align: right;\">\n",
       "      <th></th>\n",
       "      <th>unsubs_from</th>\n",
       "      <th>unsubs_date</th>\n",
       "      <th>revenue</th>\n",
       "      <th>subs_date</th>\n",
       "      <th>source</th>\n",
       "      <th>country</th>\n",
       "      <th>operator</th>\n",
       "      <th>profile_status</th>\n",
       "      <th>status</th>\n",
       "      <th>service_price</th>\n",
       "      <th>publisher</th>\n",
       "      <th>adnet</th>\n",
       "      <th>service</th>\n",
       "      <th>success_billing</th>\n",
       "      <th>SVD_Component_1</th>\n",
       "      <th>SVD_Component_2</th>\n",
       "      <th>SVD_Component_3</th>\n",
       "    </tr>\n",
       "  </thead>\n",
       "  <tbody>\n",
       "    <tr>\n",
       "      <th>0</th>\n",
       "      <td>no_service</td>\n",
       "      <td>no_date</td>\n",
       "      <td>0</td>\n",
       "      <td>2022-10-20 19:28:02.000</td>\n",
       "      <td>sms</td>\n",
       "      <td>th</td>\n",
       "      <td>ais</td>\n",
       "      <td>active</td>\n",
       "      <td>0</td>\n",
       "      <td>6</td>\n",
       "      <td>missing</td>\n",
       "      <td>missing</td>\n",
       "      <td>gemezz</td>\n",
       "      <td>0</td>\n",
       "      <td>-0.743245</td>\n",
       "      <td>-0.053244</td>\n",
       "      <td>0.022395</td>\n",
       "    </tr>\n",
       "    <tr>\n",
       "      <th>1</th>\n",
       "      <td>no_service</td>\n",
       "      <td>no_date</td>\n",
       "      <td>0</td>\n",
       "      <td>2020-08-23 16:11:02.000</td>\n",
       "      <td>sms</td>\n",
       "      <td>th</td>\n",
       "      <td>ais</td>\n",
       "      <td>active</td>\n",
       "      <td>0</td>\n",
       "      <td>6</td>\n",
       "      <td>missing</td>\n",
       "      <td>missing</td>\n",
       "      <td>gemezz</td>\n",
       "      <td>0</td>\n",
       "      <td>-0.743245</td>\n",
       "      <td>-0.053244</td>\n",
       "      <td>0.022395</td>\n",
       "    </tr>\n",
       "    <tr>\n",
       "      <th>2</th>\n",
       "      <td>no_service</td>\n",
       "      <td>no_date</td>\n",
       "      <td>6</td>\n",
       "      <td>2023-08-25 14:02:05.000</td>\n",
       "      <td>ivr</td>\n",
       "      <td>th</td>\n",
       "      <td>ais</td>\n",
       "      <td>active</td>\n",
       "      <td>0</td>\n",
       "      <td>6</td>\n",
       "      <td>missing</td>\n",
       "      <td>missing</td>\n",
       "      <td>gemezz</td>\n",
       "      <td>1</td>\n",
       "      <td>-0.684550</td>\n",
       "      <td>-0.050212</td>\n",
       "      <td>0.128109</td>\n",
       "    </tr>\n",
       "    <tr>\n",
       "      <th>3</th>\n",
       "      <td>no_service</td>\n",
       "      <td>no_date</td>\n",
       "      <td>0</td>\n",
       "      <td>2023-09-09 13:03:24.000</td>\n",
       "      <td>wap</td>\n",
       "      <td>th</td>\n",
       "      <td>ais</td>\n",
       "      <td>active</td>\n",
       "      <td>0</td>\n",
       "      <td>6</td>\n",
       "      <td>star</td>\n",
       "      <td>star</td>\n",
       "      <td>gemezz</td>\n",
       "      <td>0</td>\n",
       "      <td>-0.743245</td>\n",
       "      <td>-0.053244</td>\n",
       "      <td>0.022395</td>\n",
       "    </tr>\n",
       "    <tr>\n",
       "      <th>4</th>\n",
       "      <td>no_service</td>\n",
       "      <td>no_date</td>\n",
       "      <td>0</td>\n",
       "      <td>2022-09-26 19:36:03.000</td>\n",
       "      <td>sms</td>\n",
       "      <td>th</td>\n",
       "      <td>ais</td>\n",
       "      <td>active</td>\n",
       "      <td>0</td>\n",
       "      <td>6</td>\n",
       "      <td>missing</td>\n",
       "      <td>missing</td>\n",
       "      <td>gemezz</td>\n",
       "      <td>0</td>\n",
       "      <td>-0.743245</td>\n",
       "      <td>-0.053244</td>\n",
       "      <td>0.022395</td>\n",
       "    </tr>\n",
       "  </tbody>\n",
       "</table>\n",
       "</div>"
      ],
      "text/plain": [
       "  unsubs_from unsubs_date  revenue                subs_date source country  \\\n",
       "0  no_service     no_date        0  2022-10-20 19:28:02.000    sms      th   \n",
       "1  no_service     no_date        0  2020-08-23 16:11:02.000    sms      th   \n",
       "2  no_service     no_date        6  2023-08-25 14:02:05.000    ivr      th   \n",
       "3  no_service     no_date        0  2023-09-09 13:03:24.000    wap      th   \n",
       "4  no_service     no_date        0  2022-09-26 19:36:03.000    sms      th   \n",
       "\n",
       "  operator profile_status  status  service_price publisher    adnet service  \\\n",
       "0      ais         active       0              6   missing  missing  gemezz   \n",
       "1      ais         active       0              6   missing  missing  gemezz   \n",
       "2      ais         active       0              6   missing  missing  gemezz   \n",
       "3      ais         active       0              6      star     star  gemezz   \n",
       "4      ais         active       0              6   missing  missing  gemezz   \n",
       "\n",
       "   success_billing  SVD_Component_1  SVD_Component_2  SVD_Component_3  \n",
       "0                0        -0.743245        -0.053244         0.022395  \n",
       "1                0        -0.743245        -0.053244         0.022395  \n",
       "2                1        -0.684550        -0.050212         0.128109  \n",
       "3                0        -0.743245        -0.053244         0.022395  \n",
       "4                0        -0.743245        -0.053244         0.022395  "
      ]
     },
     "execution_count": 23,
     "metadata": {},
     "output_type": "execute_result"
    }
   ],
   "source": [
    "#Singular Value Decomposition (SVD0) implementation\n",
    "n_components= min(df_numerical.shape[0], df_numerical.shape[1])-1\n",
    "svd=TruncatedSVD(n_components=n_components)\n",
    "df_svd=svd.fit_transform(df_numerical_standarized)\n",
    "df_svd_result=pd.DataFrame(df_svd, columns=[f\"SVD_Component_{i+1}\" for i in range(n_components)])\n",
    "#concatinate the SDV components(result) with the orignal df\n",
    "df_svd_result=pd.concat([df, df_svd_result], axis=1)\n",
    "#PRINTING SVD RESULT\n",
    "print(\"DataFrame after SVD: \")\n",
    "df_svd_result.head()"
   ]
  },
  {
   "cell_type": "code",
   "execution_count": 22,
   "id": "d57cef34-8d66-435a-9689-5e9124c02586",
   "metadata": {},
   "outputs": [
    {
     "name": "stdout",
     "output_type": "stream",
     "text": [
      "Variance Ratios: \n"
     ]
    },
    {
     "data": {
      "text/plain": [
       "array([0.51389945, 0.24987777, 0.16963612])"
      ]
     },
     "execution_count": 22,
     "metadata": {},
     "output_type": "execute_result"
    }
   ],
   "source": [
    "#SVD EVALUATION METRICS METHOD: variance ratio\n",
    "variance_ratio=svd.explained_variance_ratio_\n",
    "\n",
    "print(\"Variance Ratios: \")\n",
    "variance_ratio"
   ]
  },
  {
   "cell_type": "code",
   "execution_count": 24,
   "id": "dc9283aa-d94c-4360-b0d1-e1c5964a17ef",
   "metadata": {},
   "outputs": [
    {
     "name": "stdout",
     "output_type": "stream",
     "text": [
      "\n",
      "Cumulative Explained Variance:\n",
      "[0.58114889 0.78156426 0.93258162 0.98799175]\n"
     ]
    }
   ],
   "source": [
    "#Cumulative Variance for performance evaluation: calculating the cumulative explained variance\n",
    "cumulative_explained_variance = explained_variance_ratio.cumsum()\n",
    "\n",
    "print(\"\\nCumulative Explained Variance:\")\n",
    "print(cumulative_explained_variance)\n"
   ]
  },
  {
   "cell_type": "code",
   "execution_count": null,
   "id": "5eff8a34-8487-46e8-b165-0b080528278b",
   "metadata": {},
   "outputs": [],
   "source": []
  }
 ],
 "metadata": {
  "kernelspec": {
   "display_name": "Python 3 (ipykernel)",
   "language": "python",
   "name": "python3"
  },
  "language_info": {
   "codemirror_mode": {
    "name": "ipython",
    "version": 3
   },
   "file_extension": ".py",
   "mimetype": "text/x-python",
   "name": "python",
   "nbconvert_exporter": "python",
   "pygments_lexer": "ipython3",
   "version": "3.11.2"
  }
 },
 "nbformat": 4,
 "nbformat_minor": 5
}
